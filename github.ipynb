{
 "cells": [
  {
   "cell_type": "markdown",
   "id": "e5977749-8f40-4e26-92a9-5ace72ef6548",
   "metadata": {},
   "source": [
    "Github Questions:\n",
    "\n",
    "1) name one purpose for github\n",
    "   \n",
    "2) describe what is version control in your own words and how it could help you in your project\n",
    "\n",
    "3) explain how in a group project (which we are not doing) github could help manage collaboration."
   ]
  },
  {
   "cell_type": "markdown",
   "id": "879b7917-ff56-4ae2-9834-b39b5727d28c",
   "metadata": {},
   "source": [
    "1. Github can be used to share information and code about projects that others can access to replicate how the data was created.\n",
    "   \n",
    "2. Version control keeps a history of all the changes that are made to the project. It can help with my project to add comments during peer review and see what changes can improve the code.\n",
    "\n",
    "3. Github allows to use branches to work on the project and it will merge everyone's branches after. This way everyone can work on the project without accidentally messing up the main version of the project. "
   ]
  }
 ],
 "metadata": {
  "kernelspec": {
   "display_name": "Python 3 (ipykernel)",
   "language": "python",
   "name": "python3"
  },
  "language_info": {
   "codemirror_mode": {
    "name": "ipython",
    "version": 3
   },
   "file_extension": ".py",
   "mimetype": "text/x-python",
   "name": "python",
   "nbconvert_exporter": "python",
   "pygments_lexer": "ipython3",
   "version": "3.12.5"
  }
 },
 "nbformat": 4,
 "nbformat_minor": 5
}
